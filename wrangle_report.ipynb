{
 "cells": [
  {
   "cell_type": "markdown",
   "metadata": {},
   "source": [
    "## Reporting: wragle_report\n",
    "* Create a **300-600 word written report** called \"wrangle_report.pdf\" or \"wrangle_report.html\" that briefly describes your wrangling efforts. This is to be framed as an internal document."
   ]
  },
  {
   "cell_type": "markdown",
   "metadata": {},
   "source": [
    "#### Introduction"
   ]
  },
  {
   "cell_type": "markdown",
   "metadata": {},
   "source": [
    "WeRateDogs is a Twitter account that rates people's dogs with  comments about the dog. These ratings almost always have a denominator of 10 and numerators always greater than 10. 11/10, 12/10, 13/10.\n",
    "This project shows the data wrangling efforts of the twitter account that is the gathering process of the data,the assessment process of the collected data and the cleaning data of the same\n",
    "The project involved the tables gathered using different methods"
   ]
  },
  {
   "cell_type": "markdown",
   "metadata": {},
   "source": [
    "#### GATHERING STAGE"
   ]
  },
  {
   "cell_type": "markdown",
   "metadata": {},
   "source": [
    "The project involved thre tables gathered using different methods\n",
    "    a)twitter_archive_enhanced csv which is downloaded manually\n",
    "    b)image_predictions.tsv which was downloade using requests library to download\n",
    "    c)tweet_json.txt from the twitter API "
   ]
  },
  {
   "cell_type": "markdown",
   "metadata": {},
   "source": [
    "#### ASSESMENT STAGE"
   ]
  },
  {
   "cell_type": "markdown",
   "metadata": {},
   "source": [
    "The three files as downloaded into 3 different data frames and was assesed using progmatically and visually with 8 quality issues and 2 tidy issues noted\n",
    "\n",
    "### Quality issues\n",
    "\n",
    "## Twitter archive enhanced Dataset\n",
    "1.retweeted_status_timestamp column is an object but should be a datetime datatype\n",
    "\n",
    "2.the columns (retweeted_status_id,in_reply_to_status_id ,in_reply_to_user_id,retweeted_status_user_id, and tweet id) are typed to string but can be changed to object because we wont have any actions on them.\n",
    "\n",
    "3.The column name  has  invalid names such as ( 'None' with a count of 745,'a'  with a count of 55,'Bo' with a count of 9,'an' with a count of 7,'O' with a count of 1)\n",
    "\n",
    "\n",
    "4.The retweets column is not needed since we only ned the original tweets by the users\n",
    "\n",
    "## Tweet json Dataset\n",
    " \n",
    "5.The retweets column is not needed since we only need the original tweets by the users hence associated columns such as retweet_count,retweeted,retweeted_status\n",
    "\n",
    "6.Convert data type of tweet_id in all tables to object string data type for merging\n",
    "\n",
    "\n",
    "## Image Predictions\n",
    "\n",
    "7.There are 66 rows of duplicated jpg_url\n",
    "\n",
    "8.The columns p1_dog, p2_dog, & p3_dog set to false don't have a definitive category of any dog type hence should be dropped\n"
   ]
  },
  {
   "cell_type": "markdown",
   "metadata": {},
   "source": [
    "### Tidiness issues\n",
    "1.All tables should be part of one dataset\n",
    "\n",
    "2.'doggo','floofer','pupper','puppo' stages of dogs in 4 columns instead of rows for the twitter archive enhanced dataset."
   ]
  },
  {
   "cell_type": "markdown",
   "metadata": {},
   "source": [
    "#### CLEANING STAGE"
   ]
  },
  {
   "cell_type": "markdown",
   "metadata": {},
   "source": [
    "All the data quality issues and the tddy issues were adressed and were acted on .They include,\n",
    "\n",
    "    a)Change the data type from object to datetime\n",
    "    \n",
    "    b)Change the columns retweeted_status_id,in_reply_to_status_id ,in_reply_to_user_id,retweeted_status_user_id,     and tweet id from intergs to object\n",
    "    \n",
    "    c)Drop the columns with names 'None','a','Bo','An'and 0\n",
    "    \n",
    "    d)Drop the 'retweeted_status_id','retweeted_status_user_id','retweeted_status_timestamp' column\n",
    "    \n",
    "    e)Drop the columns retweet_count,retweeted,retweeted_status\n",
    "    \n",
    "    f)Convert data type of tweet_id in all tables to object string\n",
    "    \n",
    "    g)Drop the duplicated jpg_url\n",
    "    \n",
    "    h)Drop keep rows with entries that have p1_dog, p2_dog, & p3_dog values set to False\n"
   ]
  },
  {
   "cell_type": "code",
   "execution_count": null,
   "metadata": {},
   "outputs": [],
   "source": []
  }
 ],
 "metadata": {
  "kernelspec": {
   "display_name": "Python 3",
   "language": "python",
   "name": "python3"
  },
  "language_info": {
   "codemirror_mode": {
    "name": "ipython",
    "version": 3
   },
   "file_extension": ".py",
   "mimetype": "text/x-python",
   "name": "python",
   "nbconvert_exporter": "python",
   "pygments_lexer": "ipython3",
   "version": "3.6.3"
  }
 },
 "nbformat": 4,
 "nbformat_minor": 2
}
